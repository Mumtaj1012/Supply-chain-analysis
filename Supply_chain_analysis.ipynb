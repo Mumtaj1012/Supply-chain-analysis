{
 "cells": [
  {
   "cell_type": "code",
   "execution_count": 1,
   "id": "ad327272-c0bf-4e71-a7e9-643a034fa054",
   "metadata": {},
   "outputs": [
    {
     "name": "stdout",
     "output_type": "stream",
     "text": [
      "Requirement already satisfied: mysql-connector-python in c:\\users\\nakeeb khan\\anaconda3\\lib\\site-packages (9.2.0)\n",
      "Note: you may need to restart the kernel to use updated packages.\n"
     ]
    }
   ],
   "source": [
    "pip install mysql-connector-python\n"
   ]
  },
  {
   "cell_type": "code",
   "execution_count": 42,
   "id": "1041c7b6-20cb-4995-b95a-df8f4ba3887d",
   "metadata": {},
   "outputs": [],
   "source": [
    "import seaborn as sns\n",
    "import matplotlib.pyplot as plt"
   ]
  },
  {
   "cell_type": "code",
   "execution_count": 3,
   "id": "7fa7b7f5-d159-4e86-8c69-b5c8230f9cdd",
   "metadata": {},
   "outputs": [],
   "source": [
    "import pandas as pd\n",
    "import mysql.connector\n",
    "\n",
    "# Connect to your SQL database\n",
    "conn = mysql.connector.connect(\n",
    "    host=\"localhost\",\n",
    "    port=3306,\n",
    "    user=\"root\",\n",
    "    password=\"Kashish@123\",         \n",
    "    database=\"Sales\"     \n",
    ")\n",
    "\n",
    "\n",
    "# Query your cleaned table\n",
    "#query = \"SELECT * FROM supply_chain_data\"\n",
    "\n",
    "# Load into Pandas\n",
    "#df = pd.read_sql(query, conn)\n",
    "\n",
    "# Close connection\n",
    "#conn.close()\n",
    "\n",
    "# View data\n",
    "#print(df.head())"
   ]
  },
  {
   "cell_type": "code",
   "execution_count": 5,
   "id": "9bce4fb4-b44c-4787-80ac-57b618c9c3a2",
   "metadata": {},
   "outputs": [],
   "source": [
    "# Query your cleaned table\n",
    "query = \"SELECT * FROM supply_chain\""
   ]
  },
  {
   "cell_type": "code",
   "execution_count": 7,
   "id": "02b19ff2-c535-4366-92ee-9d2cbeb99a16",
   "metadata": {},
   "outputs": [
    {
     "name": "stderr",
     "output_type": "stream",
     "text": [
      "C:\\Users\\nakeeb khan\\AppData\\Local\\Temp\\ipykernel_12184\\2891694648.py:2: UserWarning: pandas only supports SQLAlchemy connectable (engine/connection) or database string URI or sqlite3 DBAPI2 connection. Other DBAPI2 objects are not tested. Please consider using SQLAlchemy.\n",
      "  df = pd.read_sql(query, conn)\n"
     ]
    }
   ],
   "source": [
    "# Load into Pandas\n",
    "df = pd.read_sql(query, conn)\n"
   ]
  },
  {
   "cell_type": "code",
   "execution_count": 9,
   "id": "1af98f90-1326-493b-af64-555c8792c880",
   "metadata": {},
   "outputs": [],
   "source": [
    "# Close connection\n",
    "conn.close()"
   ]
  },
  {
   "cell_type": "code",
   "execution_count": 11,
   "id": "b5ce379f-ac97-42a4-ac34-283ac596616e",
   "metadata": {},
   "outputs": [
    {
     "name": "stdout",
     "output_type": "stream",
     "text": [
      "  product_type    sku  price  availability  number_of_products_sold  \\\n",
      "0     haircare   SKU0  69.81            55                      802   \n",
      "1     skincare   SKU1  14.84            95                      736   \n",
      "2     skincare  SKU10  15.71            11                      996   \n",
      "3     skincare  SKU11  90.64            95                      960   \n",
      "4     haircare  SKU12  71.21            41                      336   \n",
      "\n",
      "   revenue_generated customer_demographics  stock_levels  lead_times  \\\n",
      "0            8662.00            non-binary            58           7   \n",
      "1            7460.90                female            53          30   \n",
      "2            2330.97            non-binary            51          13   \n",
      "3            6099.94                female            46          23   \n",
      "4            2873.74               unknown           100          30   \n",
      "\n",
      "   order_quantities  ...  lead_time production_volumes  \\\n",
      "0                96  ...         29                215   \n",
      "1                37  ...         23                517   \n",
      "2                80  ...         18                830   \n",
      "3                60  ...         28                362   \n",
      "4                85  ...          3                563   \n",
      "\n",
      "   manufacturing_lead_time manufacturing_costs inspection_results  \\\n",
      "0                       29               46.28            Pending   \n",
      "1                       30               33.62            Pending   \n",
      "2                        5               96.53               Pass   \n",
      "3                       11               27.59            Pending   \n",
      "4                        3               32.32               Fail   \n",
      "\n",
      "   defect_rates  transportation_modes   routes   costs   Profit  \n",
      "0          0.23                  Road  Route B  187.75  8612.76  \n",
      "1          4.85                  Road  Route B  503.07  7417.56  \n",
      "2          1.73                  Road  Route B  806.10  2225.77  \n",
      "3          0.02                   Air  Route A  126.72  6067.83  \n",
      "4          2.16                  Road  Route B  402.97  2840.09  \n",
      "\n",
      "[5 rows x 25 columns]\n"
     ]
    }
   ],
   "source": [
    "# View data\n",
    "print(df.head())"
   ]
  },
  {
   "cell_type": "code",
   "execution_count": 13,
   "id": "b7090cb0-6c28-41b1-b4e0-6ac09662f3af",
   "metadata": {},
   "outputs": [
    {
     "name": "stdout",
     "output_type": "stream",
     "text": [
      "(100, 25)\n"
     ]
    }
   ],
   "source": [
    "print(df.shape)        # Rows & columns\n"
   ]
  },
  {
   "cell_type": "code",
   "execution_count": 15,
   "id": "e63adec7-6117-4380-a79f-973b7176817e",
   "metadata": {},
   "outputs": [
    {
     "name": "stdout",
     "output_type": "stream",
     "text": [
      "Index(['product_type', 'sku', 'price', 'availability',\n",
      "       'number_of_products_sold', 'revenue_generated', 'customer_demographics',\n",
      "       'stock_levels', 'lead_times', 'order_quantities', 'shipping_times',\n",
      "       'shipping_carriers', 'shipping_costs', 'supplier_name', 'location',\n",
      "       'lead_time', 'production_volumes', 'manufacturing_lead_time',\n",
      "       'manufacturing_costs', 'inspection_results', 'defect_rates',\n",
      "       'transportation_modes', 'routes', 'costs', 'Profit'],\n",
      "      dtype='object')\n"
     ]
    }
   ],
   "source": [
    "print(df.columns)      # Column names\n"
   ]
  },
  {
   "cell_type": "code",
   "execution_count": 17,
   "id": "1892b2fc-4a8c-48d0-a9f9-2859a309341e",
   "metadata": {},
   "outputs": [
    {
     "name": "stdout",
     "output_type": "stream",
     "text": [
      "<class 'pandas.core.frame.DataFrame'>\n",
      "RangeIndex: 100 entries, 0 to 99\n",
      "Data columns (total 25 columns):\n",
      " #   Column                   Non-Null Count  Dtype  \n",
      "---  ------                   --------------  -----  \n",
      " 0   product_type             100 non-null    object \n",
      " 1   sku                      100 non-null    object \n",
      " 2   price                    100 non-null    float64\n",
      " 3   availability             100 non-null    int64  \n",
      " 4   number_of_products_sold  100 non-null    int64  \n",
      " 5   revenue_generated        100 non-null    float64\n",
      " 6   customer_demographics    100 non-null    object \n",
      " 7   stock_levels             100 non-null    int64  \n",
      " 8   lead_times               100 non-null    int64  \n",
      " 9   order_quantities         100 non-null    int64  \n",
      " 10  shipping_times           100 non-null    int64  \n",
      " 11  shipping_carriers        100 non-null    object \n",
      " 12  shipping_costs           100 non-null    float64\n",
      " 13  supplier_name            100 non-null    object \n",
      " 14  location                 100 non-null    object \n",
      " 15  lead_time                100 non-null    int64  \n",
      " 16  production_volumes       100 non-null    int64  \n",
      " 17  manufacturing_lead_time  100 non-null    int64  \n",
      " 18  manufacturing_costs      100 non-null    float64\n",
      " 19  inspection_results       100 non-null    object \n",
      " 20  defect_rates             100 non-null    float64\n",
      " 21  transportation_modes     100 non-null    object \n",
      " 22  routes                   100 non-null    object \n",
      " 23  costs                    100 non-null    float64\n",
      " 24  Profit                   100 non-null    float64\n",
      "dtypes: float64(7), int64(9), object(9)\n",
      "memory usage: 19.7+ KB\n",
      "None\n"
     ]
    }
   ],
   "source": [
    "print(df.info())       # Data types & nulls\n"
   ]
  },
  {
   "cell_type": "code",
   "execution_count": 19,
   "id": "fa6a56b0-f9a0-4919-b11b-8aa12ebd5a41",
   "metadata": {},
   "outputs": [
    {
     "name": "stdout",
     "output_type": "stream",
     "text": [
      "  product_type    sku  price  availability  number_of_products_sold  \\\n",
      "0     haircare   SKU0  69.81            55                      802   \n",
      "1     skincare   SKU1  14.84            95                      736   \n",
      "2     skincare  SKU10  15.71            11                      996   \n",
      "3     skincare  SKU11  90.64            95                      960   \n",
      "4     haircare  SKU12  71.21            41                      336   \n",
      "\n",
      "   revenue_generated customer_demographics  stock_levels  lead_times  \\\n",
      "0            8662.00            non-binary            58           7   \n",
      "1            7460.90                female            53          30   \n",
      "2            2330.97            non-binary            51          13   \n",
      "3            6099.94                female            46          23   \n",
      "4            2873.74               unknown           100          30   \n",
      "\n",
      "   order_quantities  ...  lead_time production_volumes  \\\n",
      "0                96  ...         29                215   \n",
      "1                37  ...         23                517   \n",
      "2                80  ...         18                830   \n",
      "3                60  ...         28                362   \n",
      "4                85  ...          3                563   \n",
      "\n",
      "   manufacturing_lead_time manufacturing_costs inspection_results  \\\n",
      "0                       29               46.28            Pending   \n",
      "1                       30               33.62            Pending   \n",
      "2                        5               96.53               Pass   \n",
      "3                       11               27.59            Pending   \n",
      "4                        3               32.32               Fail   \n",
      "\n",
      "   defect_rates  transportation_modes   routes   costs   Profit  \n",
      "0          0.23                  Road  Route B  187.75  8612.76  \n",
      "1          4.85                  Road  Route B  503.07  7417.56  \n",
      "2          1.73                  Road  Route B  806.10  2225.77  \n",
      "3          0.02                   Air  Route A  126.72  6067.83  \n",
      "4          2.16                  Road  Route B  402.97  2840.09  \n",
      "\n",
      "[5 rows x 25 columns]\n"
     ]
    }
   ],
   "source": [
    "print(df.head())       # First 5 rows"
   ]
  },
  {
   "cell_type": "code",
   "execution_count": 21,
   "id": "02eb18ba-5c18-44f3-a406-6ea25eba5faa",
   "metadata": {},
   "outputs": [
    {
     "data": {
      "text/html": [
       "<div>\n",
       "<style scoped>\n",
       "    .dataframe tbody tr th:only-of-type {\n",
       "        vertical-align: middle;\n",
       "    }\n",
       "\n",
       "    .dataframe tbody tr th {\n",
       "        vertical-align: top;\n",
       "    }\n",
       "\n",
       "    .dataframe thead th {\n",
       "        text-align: right;\n",
       "    }\n",
       "</style>\n",
       "<table border=\"1\" class=\"dataframe\">\n",
       "  <thead>\n",
       "    <tr style=\"text-align: right;\">\n",
       "      <th></th>\n",
       "      <th>price</th>\n",
       "      <th>availability</th>\n",
       "      <th>number_of_products_sold</th>\n",
       "      <th>revenue_generated</th>\n",
       "      <th>stock_levels</th>\n",
       "      <th>lead_times</th>\n",
       "      <th>order_quantities</th>\n",
       "      <th>shipping_times</th>\n",
       "      <th>shipping_costs</th>\n",
       "      <th>lead_time</th>\n",
       "      <th>production_volumes</th>\n",
       "      <th>manufacturing_lead_time</th>\n",
       "      <th>manufacturing_costs</th>\n",
       "      <th>defect_rates</th>\n",
       "      <th>costs</th>\n",
       "      <th>Profit</th>\n",
       "    </tr>\n",
       "  </thead>\n",
       "  <tbody>\n",
       "    <tr>\n",
       "      <th>count</th>\n",
       "      <td>100.000000</td>\n",
       "      <td>100.000000</td>\n",
       "      <td>100.000000</td>\n",
       "      <td>100.000000</td>\n",
       "      <td>100.000000</td>\n",
       "      <td>100.000000</td>\n",
       "      <td>100.000000</td>\n",
       "      <td>100.000000</td>\n",
       "      <td>100.000000</td>\n",
       "      <td>100.000000</td>\n",
       "      <td>100.000000</td>\n",
       "      <td>100.00000</td>\n",
       "      <td>100.000000</td>\n",
       "      <td>100.000000</td>\n",
       "      <td>100.000000</td>\n",
       "      <td>100.000000</td>\n",
       "    </tr>\n",
       "    <tr>\n",
       "      <th>mean</th>\n",
       "      <td>49.462500</td>\n",
       "      <td>48.400000</td>\n",
       "      <td>460.990000</td>\n",
       "      <td>5776.048600</td>\n",
       "      <td>47.770000</td>\n",
       "      <td>15.960000</td>\n",
       "      <td>49.220000</td>\n",
       "      <td>5.750000</td>\n",
       "      <td>5.548200</td>\n",
       "      <td>17.080000</td>\n",
       "      <td>567.840000</td>\n",
       "      <td>14.77000</td>\n",
       "      <td>47.266400</td>\n",
       "      <td>2.277100</td>\n",
       "      <td>529.245700</td>\n",
       "      <td>5723.234000</td>\n",
       "    </tr>\n",
       "    <tr>\n",
       "      <th>std</th>\n",
       "      <td>31.168147</td>\n",
       "      <td>30.743317</td>\n",
       "      <td>303.780074</td>\n",
       "      <td>2732.841169</td>\n",
       "      <td>31.369372</td>\n",
       "      <td>8.785801</td>\n",
       "      <td>26.784429</td>\n",
       "      <td>2.724283</td>\n",
       "      <td>2.651879</td>\n",
       "      <td>8.846251</td>\n",
       "      <td>263.046861</td>\n",
       "      <td>8.91243</td>\n",
       "      <td>28.982778</td>\n",
       "      <td>1.461254</td>\n",
       "      <td>258.302082</td>\n",
       "      <td>2739.384841</td>\n",
       "    </tr>\n",
       "    <tr>\n",
       "      <th>min</th>\n",
       "      <td>1.700000</td>\n",
       "      <td>1.000000</td>\n",
       "      <td>8.000000</td>\n",
       "      <td>1061.620000</td>\n",
       "      <td>0.000000</td>\n",
       "      <td>1.000000</td>\n",
       "      <td>1.000000</td>\n",
       "      <td>1.000000</td>\n",
       "      <td>1.010000</td>\n",
       "      <td>1.000000</td>\n",
       "      <td>104.000000</td>\n",
       "      <td>1.00000</td>\n",
       "      <td>1.090000</td>\n",
       "      <td>0.020000</td>\n",
       "      <td>103.920000</td>\n",
       "      <td>1052.430000</td>\n",
       "    </tr>\n",
       "    <tr>\n",
       "      <th>25%</th>\n",
       "      <td>19.595000</td>\n",
       "      <td>22.750000</td>\n",
       "      <td>184.250000</td>\n",
       "      <td>2812.847500</td>\n",
       "      <td>16.750000</td>\n",
       "      <td>8.000000</td>\n",
       "      <td>26.000000</td>\n",
       "      <td>3.750000</td>\n",
       "      <td>3.542500</td>\n",
       "      <td>10.000000</td>\n",
       "      <td>352.000000</td>\n",
       "      <td>7.00000</td>\n",
       "      <td>22.985000</td>\n",
       "      <td>1.007500</td>\n",
       "      <td>318.780000</td>\n",
       "      <td>2751.795000</td>\n",
       "    </tr>\n",
       "    <tr>\n",
       "      <th>50%</th>\n",
       "      <td>51.240000</td>\n",
       "      <td>43.500000</td>\n",
       "      <td>392.500000</td>\n",
       "      <td>6006.350000</td>\n",
       "      <td>47.500000</td>\n",
       "      <td>17.000000</td>\n",
       "      <td>52.000000</td>\n",
       "      <td>6.000000</td>\n",
       "      <td>5.320000</td>\n",
       "      <td>18.000000</td>\n",
       "      <td>568.500000</td>\n",
       "      <td>14.00000</td>\n",
       "      <td>45.905000</td>\n",
       "      <td>2.140000</td>\n",
       "      <td>520.430000</td>\n",
       "      <td>5958.070000</td>\n",
       "    </tr>\n",
       "    <tr>\n",
       "      <th>75%</th>\n",
       "      <td>77.195000</td>\n",
       "      <td>75.000000</td>\n",
       "      <td>704.250000</td>\n",
       "      <td>8253.972500</td>\n",
       "      <td>73.000000</td>\n",
       "      <td>24.000000</td>\n",
       "      <td>71.250000</td>\n",
       "      <td>8.000000</td>\n",
       "      <td>7.602500</td>\n",
       "      <td>25.000000</td>\n",
       "      <td>797.000000</td>\n",
       "      <td>23.00000</td>\n",
       "      <td>68.617500</td>\n",
       "      <td>3.562500</td>\n",
       "      <td>763.080000</td>\n",
       "      <td>8178.862500</td>\n",
       "    </tr>\n",
       "    <tr>\n",
       "      <th>max</th>\n",
       "      <td>99.170000</td>\n",
       "      <td>100.000000</td>\n",
       "      <td>996.000000</td>\n",
       "      <td>9866.470000</td>\n",
       "      <td>100.000000</td>\n",
       "      <td>30.000000</td>\n",
       "      <td>96.000000</td>\n",
       "      <td>10.000000</td>\n",
       "      <td>9.930000</td>\n",
       "      <td>30.000000</td>\n",
       "      <td>985.000000</td>\n",
       "      <td>30.00000</td>\n",
       "      <td>99.470000</td>\n",
       "      <td>4.940000</td>\n",
       "      <td>997.410000</td>\n",
       "      <td>9847.500000</td>\n",
       "    </tr>\n",
       "  </tbody>\n",
       "</table>\n",
       "</div>"
      ],
      "text/plain": [
       "            price  availability  number_of_products_sold  revenue_generated  \\\n",
       "count  100.000000    100.000000               100.000000         100.000000   \n",
       "mean    49.462500     48.400000               460.990000        5776.048600   \n",
       "std     31.168147     30.743317               303.780074        2732.841169   \n",
       "min      1.700000      1.000000                 8.000000        1061.620000   \n",
       "25%     19.595000     22.750000               184.250000        2812.847500   \n",
       "50%     51.240000     43.500000               392.500000        6006.350000   \n",
       "75%     77.195000     75.000000               704.250000        8253.972500   \n",
       "max     99.170000    100.000000               996.000000        9866.470000   \n",
       "\n",
       "       stock_levels  lead_times  order_quantities  shipping_times  \\\n",
       "count    100.000000  100.000000        100.000000      100.000000   \n",
       "mean      47.770000   15.960000         49.220000        5.750000   \n",
       "std       31.369372    8.785801         26.784429        2.724283   \n",
       "min        0.000000    1.000000          1.000000        1.000000   \n",
       "25%       16.750000    8.000000         26.000000        3.750000   \n",
       "50%       47.500000   17.000000         52.000000        6.000000   \n",
       "75%       73.000000   24.000000         71.250000        8.000000   \n",
       "max      100.000000   30.000000         96.000000       10.000000   \n",
       "\n",
       "       shipping_costs   lead_time  production_volumes  \\\n",
       "count      100.000000  100.000000          100.000000   \n",
       "mean         5.548200   17.080000          567.840000   \n",
       "std          2.651879    8.846251          263.046861   \n",
       "min          1.010000    1.000000          104.000000   \n",
       "25%          3.542500   10.000000          352.000000   \n",
       "50%          5.320000   18.000000          568.500000   \n",
       "75%          7.602500   25.000000          797.000000   \n",
       "max          9.930000   30.000000          985.000000   \n",
       "\n",
       "       manufacturing_lead_time  manufacturing_costs  defect_rates       costs  \\\n",
       "count                100.00000           100.000000    100.000000  100.000000   \n",
       "mean                  14.77000            47.266400      2.277100  529.245700   \n",
       "std                    8.91243            28.982778      1.461254  258.302082   \n",
       "min                    1.00000             1.090000      0.020000  103.920000   \n",
       "25%                    7.00000            22.985000      1.007500  318.780000   \n",
       "50%                   14.00000            45.905000      2.140000  520.430000   \n",
       "75%                   23.00000            68.617500      3.562500  763.080000   \n",
       "max                   30.00000            99.470000      4.940000  997.410000   \n",
       "\n",
       "            Profit  \n",
       "count   100.000000  \n",
       "mean   5723.234000  \n",
       "std    2739.384841  \n",
       "min    1052.430000  \n",
       "25%    2751.795000  \n",
       "50%    5958.070000  \n",
       "75%    8178.862500  \n",
       "max    9847.500000  "
      ]
     },
     "execution_count": 21,
     "metadata": {},
     "output_type": "execute_result"
    }
   ],
   "source": [
    "df.describe()   #Summary Stats"
   ]
  },
  {
   "cell_type": "code",
   "execution_count": 30,
   "id": "6d9d5c2a-5e65-4235-be76-392091bb3b0c",
   "metadata": {},
   "outputs": [
    {
     "data": {
      "text/plain": [
       "product_type\n",
       "skincare     40\n",
       "haircare     34\n",
       "cosmetics    26\n",
       "Name: count, dtype: int64"
      ]
     },
     "execution_count": 30,
     "metadata": {},
     "output_type": "execute_result"
    }
   ],
   "source": [
    "#Value Counts of Key Categorical Columns\n",
    "df['product_type'].value_counts()\n"
   ]
  },
  {
   "cell_type": "code",
   "execution_count": 32,
   "id": "dda8aca4-e89c-4911-b170-353b4553fef6",
   "metadata": {},
   "outputs": [
    {
     "data": {
      "text/plain": [
       "supplier_name\n",
       "supplier 1    27\n",
       "supplier 2    22\n",
       "supplier 5    18\n",
       "supplier 4    18\n",
       "supplier 3    15\n",
       "Name: count, dtype: int64"
      ]
     },
     "execution_count": 32,
     "metadata": {},
     "output_type": "execute_result"
    }
   ],
   "source": [
    "df['supplier_name'].value_counts()\n"
   ]
  },
  {
   "cell_type": "code",
   "execution_count": 34,
   "id": "2519a8fe-05ed-4ed2-8960-4f4dd4196630",
   "metadata": {},
   "outputs": [
    {
     "data": {
      "text/plain": [
       "location\n",
       "kolkata      25\n",
       "mumbai       22\n",
       "chennai      20\n",
       "bangalore    18\n",
       "delhi        15\n",
       "Name: count, dtype: int64"
      ]
     },
     "execution_count": 34,
     "metadata": {},
     "output_type": "execute_result"
    }
   ],
   "source": [
    "df['location'].value_counts()"
   ]
  },
  {
   "cell_type": "code",
   "execution_count": 38,
   "id": "e7f92687-5a7e-48f7-8799-069b3068d768",
   "metadata": {},
   "outputs": [
    {
     "data": {
      "text/html": [
       "<div>\n",
       "<style scoped>\n",
       "    .dataframe tbody tr th:only-of-type {\n",
       "        vertical-align: middle;\n",
       "    }\n",
       "\n",
       "    .dataframe tbody tr th {\n",
       "        vertical-align: top;\n",
       "    }\n",
       "\n",
       "    .dataframe thead th {\n",
       "        text-align: right;\n",
       "    }\n",
       "</style>\n",
       "<table border=\"1\" class=\"dataframe\">\n",
       "  <thead>\n",
       "    <tr style=\"text-align: right;\">\n",
       "      <th></th>\n",
       "      <th>revenue_generated</th>\n",
       "      <th>shipping_costs</th>\n",
       "      <th>manufacturing_costs</th>\n",
       "      <th>Profit</th>\n",
       "    </tr>\n",
       "  </thead>\n",
       "  <tbody>\n",
       "    <tr>\n",
       "      <th>count</th>\n",
       "      <td>100.000000</td>\n",
       "      <td>100.000000</td>\n",
       "      <td>100.000000</td>\n",
       "      <td>100.000000</td>\n",
       "    </tr>\n",
       "    <tr>\n",
       "      <th>mean</th>\n",
       "      <td>5776.048600</td>\n",
       "      <td>5.548200</td>\n",
       "      <td>47.266400</td>\n",
       "      <td>5723.234000</td>\n",
       "    </tr>\n",
       "    <tr>\n",
       "      <th>std</th>\n",
       "      <td>2732.841169</td>\n",
       "      <td>2.651879</td>\n",
       "      <td>28.982778</td>\n",
       "      <td>2739.384841</td>\n",
       "    </tr>\n",
       "    <tr>\n",
       "      <th>min</th>\n",
       "      <td>1061.620000</td>\n",
       "      <td>1.010000</td>\n",
       "      <td>1.090000</td>\n",
       "      <td>1052.430000</td>\n",
       "    </tr>\n",
       "    <tr>\n",
       "      <th>25%</th>\n",
       "      <td>2812.847500</td>\n",
       "      <td>3.542500</td>\n",
       "      <td>22.985000</td>\n",
       "      <td>2751.795000</td>\n",
       "    </tr>\n",
       "    <tr>\n",
       "      <th>50%</th>\n",
       "      <td>6006.350000</td>\n",
       "      <td>5.320000</td>\n",
       "      <td>45.905000</td>\n",
       "      <td>5958.070000</td>\n",
       "    </tr>\n",
       "    <tr>\n",
       "      <th>75%</th>\n",
       "      <td>8253.972500</td>\n",
       "      <td>7.602500</td>\n",
       "      <td>68.617500</td>\n",
       "      <td>8178.862500</td>\n",
       "    </tr>\n",
       "    <tr>\n",
       "      <th>max</th>\n",
       "      <td>9866.470000</td>\n",
       "      <td>9.930000</td>\n",
       "      <td>99.470000</td>\n",
       "      <td>9847.500000</td>\n",
       "    </tr>\n",
       "  </tbody>\n",
       "</table>\n",
       "</div>"
      ],
      "text/plain": [
       "       revenue_generated  shipping_costs  manufacturing_costs       Profit\n",
       "count         100.000000      100.000000           100.000000   100.000000\n",
       "mean         5776.048600        5.548200            47.266400  5723.234000\n",
       "std          2732.841169        2.651879            28.982778  2739.384841\n",
       "min          1061.620000        1.010000             1.090000  1052.430000\n",
       "25%          2812.847500        3.542500            22.985000  2751.795000\n",
       "50%          6006.350000        5.320000            45.905000  5958.070000\n",
       "75%          8253.972500        7.602500            68.617500  8178.862500\n",
       "max          9866.470000        9.930000            99.470000  9847.500000"
      ]
     },
     "execution_count": 38,
     "metadata": {},
     "output_type": "execute_result"
    }
   ],
   "source": [
    "#1.Revenue vs Cost vs Profit Analysis\n",
    "\n",
    "df[['revenue_generated', 'shipping_costs', 'manufacturing_costs', 'Profit']].describe()"
   ]
  },
  {
   "cell_type": "code",
   "execution_count": 44,
   "id": "63865914-9a35-4e20-97a3-5b96bc593c25",
   "metadata": {},
   "outputs": [
    {
     "data": {
      "image/png": "[encoded data removed]",
      "text/plain": [
       "<Figure size 640x480 with 1 Axes>"
      ]
     },
     "metadata": {},
     "output_type": "display_data"
    }
   ],
   "source": [
    "df[['revenue_generated', 'shipping_costs', 'manufacturing_costs', 'Profit']].plot(kind='box', title='Revenue, Cost & Profit Distribution')\n",
    "plt.ylabel('Amount')\n",
    "plt.tight_layout()\n",
    "plt.show()"
   ]
  },
  {
   "cell_type": "code",
   "execution_count": 76,
   "id": "3353ce35-08f6-45c9-a55f-1764057f3704",
   "metadata": {},
   "outputs": [
    {
     "name": "stdout",
     "output_type": "stream",
     "text": [
      "supplier_name\n",
      "supplier 1    157528.98\n",
      "supplier 2    125467.45\n",
      "supplier 5    110343.48\n",
      "supplier 3     97795.98\n",
      "supplier 4     86468.97\n",
      "Name: revenue_generated, dtype: float64\n"
     ]
    }
   ],
   "source": [
    "###2️. Top Performing Suppliers\n",
    "\n",
    "top_suppliers = df.groupby('supplier_name')['revenue_generated'].sum().sort_values(ascending=False).head(10)\n",
    "\n",
    "print(top_suppliers)"
   ]
  },
  {
   "cell_type": "code",
   "execution_count": 74,
   "id": "8fe1b859-eced-4bd2-a500-52bdb525cd6f",
   "metadata": {},
   "outputs": [
    {
     "data": {
      "image/png": "[encoded data removed]",
      "text/plain": [
       "<Figure size 640x480 with 1 Axes>"
      ]
     },
     "metadata": {},
     "output_type": "display_data"
    }
   ],
   "source": [
    "top_suppliers.plot(kind='bar', title='Top Performing Suppliers (by Revenue)')\n",
    "plt.ylabel('Total Revenue')\n",
    "plt.tight_layout()\n",
    "plt.show()"
   ]
  },
  {
   "cell_type": "code",
   "execution_count": 78,
   "id": "1fc45199-c746-4b60-bad0-30cbf3433cc9",
   "metadata": {},
   "outputs": [
    {
     "name": "stdout",
     "output_type": "stream",
     "text": [
      "location\n",
      "mumbai       6.248636\n",
      "kolkata      5.761200\n",
      "bangalore    5.748333\n",
      "delhi        5.070667\n",
      "chennai      4.689500\n",
      "Name: shipping_costs, dtype: float64\n"
     ]
    }
   ],
   "source": [
    "### 3. High-Cost Shipping Routes\n",
    "\n",
    "shipping_by_location= df.groupby('location')['shipping_costs'].mean().sort_values(ascending=False).head(10)\n",
    "\n",
    "print(shipping_by_location)"
   ]
  },
  {
   "cell_type": "code",
   "execution_count": 80,
   "id": "7717d76c-b5f7-468b-b8ad-dd5bb6854141",
   "metadata": {},
   "outputs": [
    {
     "data": {
      "image/png": "[encoded data removed]",
      "text/plain": [
       "<Figure size 640x480 with 1 Axes>"
      ]
     },
     "metadata": {},
     "output_type": "display_data"
    }
   ],
   "source": [
    "shipping_by_location.plot(kind='bar', title='Average Shipping Costs by Location', color='orange')\n",
    "plt.ylabel('Avg Shipping Cost')\n",
    "plt.tight_layout()\n",
    "plt.show()"
   ]
  },
  {
   "cell_type": "code",
   "execution_count": 82,
   "id": "97f78a77-68a5-41ea-b80c-7bd8d42b5c37",
   "metadata": {},
   "outputs": [
    {
     "name": "stdout",
     "output_type": "stream",
     "text": [
      "product_type\n",
      "skincare     239472.06\n",
      "haircare     172606.99\n",
      "cosmetics    160244.35\n",
      "Name: Profit, dtype: float64\n"
     ]
    }
   ],
   "source": [
    "#### 4.Profitability by Product Type\n",
    "\n",
    "profit_by_product = df.groupby('product_type')['Profit'].sum().sort_values(ascending=False)\n",
    "\n",
    "print(profit_by_product)"
   ]
  },
  {
   "cell_type": "code",
   "execution_count": 84,
   "id": "827bb7d1-22ad-4e45-81e8-457288be09e5",
   "metadata": {},
   "outputs": [
    {
     "data": {
      "image/png": "[encoded data removed]",
      "text/plain": [
       "<Figure size 640x480 with 1 Axes>"
      ]
     },
     "metadata": {},
     "output_type": "display_data"
    }
   ],
   "source": [
    "profit_by_product.plot(kind='bar', title='Total Profit by Product Type', color='green')\n",
    "plt.ylabel('Total Profit')\n",
    "plt.tight_layout()\n",
    "plt.show()"
   ]
  },
  {
   "cell_type": "code",
   "execution_count": 86,
   "id": "80cb33d6-e362-4fbd-a04c-c050a2485aa7",
   "metadata": {},
   "outputs": [
    {
     "name": "stdout",
     "output_type": "stream",
     "text": [
      "product_type\n",
      "haircare     2.483824\n",
      "skincare     2.334500\n",
      "cosmetics    1.918462\n",
      "Name: defect_rates, dtype: float64\n"
     ]
    }
   ],
   "source": [
    "### 5.Defect Rate Analysis\n",
    "\n",
    "defect_by_product = df.groupby('product_type')['defect_rates'].mean().sort_values(ascending=False)\n",
    "\n",
    "print(defect_by_product)"
   ]
  },
  {
   "cell_type": "code",
   "execution_count": 88,
   "id": "c20c0554-45dd-4f3a-8252-a10458169f9a",
   "metadata": {},
   "outputs": [
    {
     "data": {
      "image/png": "[encoded data removed]",
      "text/plain": [
       "<Figure size 640x480 with 1 Axes>"
      ]
     },
     "metadata": {},
     "output_type": "display_data"
    }
   ],
   "source": [
    "defect_by_product.plot(kind='bar', title='Avg Defect Rate by Product Type', color='red')\n",
    "plt.ylabel('Defect %')\n",
    "plt.tight_layout()\n",
    "plt.show()"
   ]
  },
  {
   "cell_type": "code",
   "execution_count": 90,
   "id": "6ba16434-1949-4e58-9cc1-1fa32c133748",
   "metadata": {},
   "outputs": [
    {
     "name": "stdout",
     "output_type": "stream",
     "text": [
      "sku\n",
      "SKU51    9866.47\n",
      "SKU38    9692.32\n",
      "SKU31    9655.14\n",
      "SKU90    9592.63\n",
      "SKU2     9577.75\n",
      "SKU32    9571.55\n",
      "SKU67    9473.80\n",
      "SKU88    9444.74\n",
      "SKU52    9435.76\n",
      "SKU18    9364.67\n",
      "Name: revenue_generated, dtype: float64\n"
     ]
    }
   ],
   "source": [
    "## 6. Top 10 High Revenue SKUs\n",
    "\n",
    "top_skus = df.groupby('sku')['revenue_generated'].sum().sort_values(ascending=False).head(10)\n",
    "\n",
    "print(top_skus)"
   ]
  },
  {
   "cell_type": "code",
   "execution_count": 92,
   "id": "098d7469-a18f-44d3-addd-c7a7632b7470",
   "metadata": {},
   "outputs": [
    {
     "data": {
      "image/png": "[encoded data removed]",
      "text/plain": [
       "<Figure size 640x480 with 1 Axes>"
      ]
     },
     "metadata": {},
     "output_type": "display_data"
    }
   ],
   "source": [
    "top_skus.plot(kind='bar', title='Top Revenue Generating SKUs', color='purple')\n",
    "plt.ylabel('Revenue')\n",
    "plt.tight_layout()\n",
    "plt.show()\n"
   ]
  },
  {
   "cell_type": "code",
   "execution_count": 98,
   "id": "a6ca032a-ed72-4627-8e59-aa247d604874",
   "metadata": {},
   "outputs": [
    {
     "name": "stdout",
     "output_type": "stream",
     "text": [
      "shipping_carriers\n",
      "carrier b    5.509070\n",
      "carrier a    5.555000\n",
      "carrier c    5.599655\n",
      "Name: shipping_costs, dtype: float64\n"
     ]
    }
   ],
   "source": [
    "### 7.Shipping Carrier Performance\n",
    "\n",
    "carrier_costs = df.groupby('shipping_carriers')['shipping_costs'].mean().sort_values()\n",
    "\n",
    "print(carrier_costs)"
   ]
  },
  {
   "cell_type": "code",
   "execution_count": 100,
   "id": "5374b04f-df49-4472-9ad1-c31c11319736",
   "metadata": {},
   "outputs": [
    {
     "data": {
      "image/png": "[encoded data removed]",
      "text/plain": [
       "<Figure size 640x480 with 1 Axes>"
      ]
     },
     "metadata": {},
     "output_type": "display_data"
    }
   ],
   "source": [
    "carrier_costs.plot(kind='bar', title='Average Shipping Cost by Carrier', color='brown')\n",
    "plt.ylabel('Avg Shipping Cost')\n",
    "plt.tight_layout()\n",
    "plt.show()"
   ]
  },
  {
   "cell_type": "code",
   "execution_count": 68,
   "id": "10f06ee9-3706-45d6-b034-d5d1eb291546",
   "metadata": {},
   "outputs": [
    {
     "data": {
      "text/plain": [
       "customer_demographics\n",
       "unknown       31\n",
       "female        25\n",
       "non-binary    23\n",
       "male          21\n",
       "Name: count, dtype: int64"
      ]
     },
     "execution_count": 68,
     "metadata": {},
     "output_type": "execute_result"
    }
   ],
   "source": [
    "### 8.Customer Demographics Insights\n",
    "\n",
    "df['customer_demographics'].value_counts().head(10)"
   ]
  },
  {
   "cell_type": "code",
   "execution_count": 102,
   "id": "178da3a5-64e9-436f-a25e-53f1b8fcca40",
   "metadata": {},
   "outputs": [],
   "source": [
    "df.to_csv(\"cleaned_supply_chain_data.csv\", index=False)"
   ]
  },
  {
   "cell_type": "code",
   "execution_count": null,
   "id": "b5a9fb01-87d9-42cb-a3e7-f5ec2e49fec4",
   "metadata": {},
   "outputs": [],
   "source": []
  }
 ],
 "metadata": {
  "kernelspec": {
   "display_name": "Python 3 (ipykernel)",
   "language": "python",
   "name": "python3"
  },
  "language_info": {
   "codemirror_mode": {
    "name": "ipython",
    "version": 3
   },
   "file_extension": ".py",
   "mimetype": "text/x-python",
   "name": "python",
   "nbconvert_exporter": "python",
   "pygments_lexer": "ipython3",
   "version": "3.12.7"
  }
 },
 "nbformat": 4,
 "nbformat_minor": 5
}
